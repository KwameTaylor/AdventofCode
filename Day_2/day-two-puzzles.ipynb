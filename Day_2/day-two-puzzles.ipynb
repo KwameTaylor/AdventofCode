{
 "cells": [
  {
   "cell_type": "markdown",
   "metadata": {},
   "source": [
    "# Advent of Code 2020\n",
    "\n",
    "### Kwame V. Taylor\n",
    "\n",
    "---\n",
    "\n",
    "#### Day 2: Password Philosophy\n",
    "\n",
    "Your flight departs in a few days from the coastal airport; the easiest way down to the coast from here is via toboggan.\n",
    "\n",
    "The shopkeeper at the North Pole Toboggan Rental Shop is having a bad day. \"Something's wrong with our computers; we can't log in!\" You ask if you can take a look.\n",
    "\n",
    "Their password database seems to be a little corrupted: some of the passwords wouldn't have been allowed by the Official Toboggan Corporate Policy that was in effect when they were chosen.\n",
    "\n",
    "To try to debug the problem, they have created a list (your puzzle input) of **passwords** (according to the corrupted database) and **the corporate policy when that password was set**.\n",
    "\n",
    "For example, suppose you have the following list:\n",
    "\n",
    "```\n",
    "1-3 a: abcde\n",
    "1-3 b: cdefg\n",
    "2-9 c: ccccccccc\n",
    "```\n",
    "\n",
    "Each line gives the password policy and then the password. The password policy indicates the lowest and highest number of times a given letter must appear for the password to be valid. For example, ```1-3 a``` means that the password must contain ```a``` at least ```1``` time and at most ```3``` times.\n",
    "\n",
    "In the above example, ```2``` passwords are valid. The middle password, ```cdefg```, is not; it contains no instances of ```b```, but needs at least ```1```. The first and third passwords are valid: they contain one ```a``` or nine ```c```, both within the limits of their respective policies.\n",
    "\n",
    "**How many passwords are valid** according to their policies?"
   ]
  },
  {
   "cell_type": "code",
   "execution_count": 1,
   "metadata": {},
   "outputs": [],
   "source": [
    "import pandas as pd\n",
    "import numpy as np"
   ]
  },
  {
   "cell_type": "code",
   "execution_count": 2,
   "metadata": {},
   "outputs": [],
   "source": [
    "df = pd.read_csv('input.txt', sep=': ', engine='python', header=None)"
   ]
  },
  {
   "cell_type": "code",
   "execution_count": 3,
   "metadata": {},
   "outputs": [],
   "source": [
    "df = df.rename(columns={0: 'policy', 1: 'password'})"
   ]
  },
  {
   "cell_type": "code",
   "execution_count": 4,
   "metadata": {},
   "outputs": [
    {
     "data": {
      "text/html": [
       "<div>\n",
       "<style scoped>\n",
       "    .dataframe tbody tr th:only-of-type {\n",
       "        vertical-align: middle;\n",
       "    }\n",
       "\n",
       "    .dataframe tbody tr th {\n",
       "        vertical-align: top;\n",
       "    }\n",
       "\n",
       "    .dataframe thead th {\n",
       "        text-align: right;\n",
       "    }\n",
       "</style>\n",
       "<table border=\"1\" class=\"dataframe\">\n",
       "  <thead>\n",
       "    <tr style=\"text-align: right;\">\n",
       "      <th></th>\n",
       "      <th>policy</th>\n",
       "      <th>password</th>\n",
       "    </tr>\n",
       "  </thead>\n",
       "  <tbody>\n",
       "    <tr>\n",
       "      <th>0</th>\n",
       "      <td>4-8 n</td>\n",
       "      <td>dnjjrtclnzdnghnbnn</td>\n",
       "    </tr>\n",
       "    <tr>\n",
       "      <th>1</th>\n",
       "      <td>5-6 r</td>\n",
       "      <td>rrrrcqr</td>\n",
       "    </tr>\n",
       "    <tr>\n",
       "      <th>2</th>\n",
       "      <td>2-4 p</td>\n",
       "      <td>pqhpppwpfmr</td>\n",
       "    </tr>\n",
       "    <tr>\n",
       "      <th>3</th>\n",
       "      <td>1-13 p</td>\n",
       "      <td>spppppppppppvp</td>\n",
       "    </tr>\n",
       "    <tr>\n",
       "      <th>4</th>\n",
       "      <td>5-6 x</td>\n",
       "      <td>xfwxxxxx</td>\n",
       "    </tr>\n",
       "  </tbody>\n",
       "</table>\n",
       "</div>"
      ],
      "text/plain": [
       "   policy            password\n",
       "0   4-8 n  dnjjrtclnzdnghnbnn\n",
       "1   5-6 r             rrrrcqr\n",
       "2   2-4 p         pqhpppwpfmr\n",
       "3  1-13 p      spppppppppppvp\n",
       "4   5-6 x            xfwxxxxx"
      ]
     },
     "execution_count": 4,
     "metadata": {},
     "output_type": "execute_result"
    }
   ],
   "source": [
    "df.head()"
   ]
  },
  {
   "cell_type": "code",
   "execution_count": 5,
   "metadata": {},
   "outputs": [
    {
     "data": {
      "text/plain": [
       "(1000, 2)"
      ]
     },
     "execution_count": 5,
     "metadata": {},
     "output_type": "execute_result"
    }
   ],
   "source": [
    "df.shape"
   ]
  },
  {
   "cell_type": "markdown",
   "metadata": {},
   "source": [
    "I need to translate each of the policy requirements into regex to search for within each password."
   ]
  },
  {
   "cell_type": "code",
   "execution_count": 6,
   "metadata": {},
   "outputs": [
    {
     "name": "stdout",
     "output_type": "stream",
     "text": [
      "Count of n in dnjjrtclnzdnghnbnn is : 6\n"
     ]
    }
   ],
   "source": [
    "# Python3 code to demonstrate  \n",
    "# occurrence frequency using  \n",
    "# collections.Counter() \n",
    "from collections import Counter \n",
    "  \n",
    "# initializing string  \n",
    "test_str = \"dnjjrtclnzdnghnbnn\"\n",
    "  \n",
    "# using collections.Counter() to get count  \n",
    "# counting e  \n",
    "count = Counter(test_str) \n",
    "  \n",
    "# printing result  \n",
    "print (\"Count of n in dnjjrtclnzdnghnbnn is : \"\n",
    "                       +  str(count['n'])) "
   ]
  },
  {
   "cell_type": "code",
   "execution_count": 7,
   "metadata": {},
   "outputs": [
    {
     "data": {
      "text/plain": [
       "6"
      ]
     },
     "execution_count": 7,
     "metadata": {},
     "output_type": "execute_result"
    }
   ],
   "source": [
    "'dnjjrtclnzdnghnbnn'.count('n')"
   ]
  },
  {
   "cell_type": "code",
   "execution_count": 8,
   "metadata": {},
   "outputs": [],
   "source": [
    "df[['policy_range','policy_letter']] = df.policy.apply(lambda x: pd.Series(str(x).split(\" \")))"
   ]
  },
  {
   "cell_type": "code",
   "execution_count": 9,
   "metadata": {},
   "outputs": [
    {
     "data": {
      "text/html": [
       "<div>\n",
       "<style scoped>\n",
       "    .dataframe tbody tr th:only-of-type {\n",
       "        vertical-align: middle;\n",
       "    }\n",
       "\n",
       "    .dataframe tbody tr th {\n",
       "        vertical-align: top;\n",
       "    }\n",
       "\n",
       "    .dataframe thead th {\n",
       "        text-align: right;\n",
       "    }\n",
       "</style>\n",
       "<table border=\"1\" class=\"dataframe\">\n",
       "  <thead>\n",
       "    <tr style=\"text-align: right;\">\n",
       "      <th></th>\n",
       "      <th>password</th>\n",
       "      <th>policy_range</th>\n",
       "      <th>policy_letter</th>\n",
       "    </tr>\n",
       "  </thead>\n",
       "  <tbody>\n",
       "    <tr>\n",
       "      <th>0</th>\n",
       "      <td>dnjjrtclnzdnghnbnn</td>\n",
       "      <td>4-8</td>\n",
       "      <td>n</td>\n",
       "    </tr>\n",
       "    <tr>\n",
       "      <th>1</th>\n",
       "      <td>rrrrcqr</td>\n",
       "      <td>5-6</td>\n",
       "      <td>r</td>\n",
       "    </tr>\n",
       "    <tr>\n",
       "      <th>2</th>\n",
       "      <td>pqhpppwpfmr</td>\n",
       "      <td>2-4</td>\n",
       "      <td>p</td>\n",
       "    </tr>\n",
       "    <tr>\n",
       "      <th>3</th>\n",
       "      <td>spppppppppppvp</td>\n",
       "      <td>1-13</td>\n",
       "      <td>p</td>\n",
       "    </tr>\n",
       "    <tr>\n",
       "      <th>4</th>\n",
       "      <td>xfwxxxxx</td>\n",
       "      <td>5-6</td>\n",
       "      <td>x</td>\n",
       "    </tr>\n",
       "  </tbody>\n",
       "</table>\n",
       "</div>"
      ],
      "text/plain": [
       "             password policy_range policy_letter\n",
       "0  dnjjrtclnzdnghnbnn          4-8             n\n",
       "1             rrrrcqr          5-6             r\n",
       "2         pqhpppwpfmr          2-4             p\n",
       "3      spppppppppppvp         1-13             p\n",
       "4            xfwxxxxx          5-6             x"
      ]
     },
     "execution_count": 9,
     "metadata": {},
     "output_type": "execute_result"
    }
   ],
   "source": [
    "df = df.drop(columns=['policy'])\n",
    "df.head()"
   ]
  },
  {
   "cell_type": "code",
   "execution_count": 10,
   "metadata": {},
   "outputs": [],
   "source": [
    "#df.policy_range = df.policy_range.str.replace('-', ' ')\n",
    "#df.policy_range = df.policy_range.str.split(\" \").apply(tuple)\n",
    "#df.policy_range = tuple(df.policy_range)"
   ]
  },
  {
   "cell_type": "code",
   "execution_count": 11,
   "metadata": {},
   "outputs": [],
   "source": [
    "#df.head()"
   ]
  },
  {
   "cell_type": "code",
   "execution_count": 12,
   "metadata": {},
   "outputs": [],
   "source": [
    "#df.policy_range.dtype"
   ]
  },
  {
   "cell_type": "code",
   "execution_count": 13,
   "metadata": {},
   "outputs": [],
   "source": [
    "#df.policy_letter = (\"'\" + (df.policy_letter).astype(str) + \"'\")"
   ]
  },
  {
   "cell_type": "code",
   "execution_count": 14,
   "metadata": {},
   "outputs": [
    {
     "data": {
      "text/html": [
       "<div>\n",
       "<style scoped>\n",
       "    .dataframe tbody tr th:only-of-type {\n",
       "        vertical-align: middle;\n",
       "    }\n",
       "\n",
       "    .dataframe tbody tr th {\n",
       "        vertical-align: top;\n",
       "    }\n",
       "\n",
       "    .dataframe thead th {\n",
       "        text-align: right;\n",
       "    }\n",
       "</style>\n",
       "<table border=\"1\" class=\"dataframe\">\n",
       "  <thead>\n",
       "    <tr style=\"text-align: right;\">\n",
       "      <th></th>\n",
       "      <th>password</th>\n",
       "      <th>policy_range</th>\n",
       "      <th>policy_letter</th>\n",
       "    </tr>\n",
       "  </thead>\n",
       "  <tbody>\n",
       "    <tr>\n",
       "      <th>0</th>\n",
       "      <td>dnjjrtclnzdnghnbnn</td>\n",
       "      <td>4-8</td>\n",
       "      <td>n</td>\n",
       "    </tr>\n",
       "    <tr>\n",
       "      <th>1</th>\n",
       "      <td>rrrrcqr</td>\n",
       "      <td>5-6</td>\n",
       "      <td>r</td>\n",
       "    </tr>\n",
       "    <tr>\n",
       "      <th>2</th>\n",
       "      <td>pqhpppwpfmr</td>\n",
       "      <td>2-4</td>\n",
       "      <td>p</td>\n",
       "    </tr>\n",
       "    <tr>\n",
       "      <th>3</th>\n",
       "      <td>spppppppppppvp</td>\n",
       "      <td>1-13</td>\n",
       "      <td>p</td>\n",
       "    </tr>\n",
       "    <tr>\n",
       "      <th>4</th>\n",
       "      <td>xfwxxxxx</td>\n",
       "      <td>5-6</td>\n",
       "      <td>x</td>\n",
       "    </tr>\n",
       "  </tbody>\n",
       "</table>\n",
       "</div>"
      ],
      "text/plain": [
       "             password policy_range policy_letter\n",
       "0  dnjjrtclnzdnghnbnn          4-8             n\n",
       "1             rrrrcqr          5-6             r\n",
       "2         pqhpppwpfmr          2-4             p\n",
       "3      spppppppppppvp         1-13             p\n",
       "4            xfwxxxxx          5-6             x"
      ]
     },
     "execution_count": 14,
     "metadata": {},
     "output_type": "execute_result"
    }
   ],
   "source": [
    "df.head()"
   ]
  },
  {
   "cell_type": "code",
   "execution_count": 15,
   "metadata": {},
   "outputs": [],
   "source": [
    "#df['is_valid'] = df['password'].count(df['policy_letter'])"
   ]
  },
  {
   "cell_type": "code",
   "execution_count": 16,
   "metadata": {},
   "outputs": [],
   "source": [
    "df['counter'] = df.apply(lambda x: x.password.count(x.policy_letter), axis=1)"
   ]
  },
  {
   "cell_type": "code",
   "execution_count": 17,
   "metadata": {},
   "outputs": [
    {
     "data": {
      "text/html": [
       "<div>\n",
       "<style scoped>\n",
       "    .dataframe tbody tr th:only-of-type {\n",
       "        vertical-align: middle;\n",
       "    }\n",
       "\n",
       "    .dataframe tbody tr th {\n",
       "        vertical-align: top;\n",
       "    }\n",
       "\n",
       "    .dataframe thead th {\n",
       "        text-align: right;\n",
       "    }\n",
       "</style>\n",
       "<table border=\"1\" class=\"dataframe\">\n",
       "  <thead>\n",
       "    <tr style=\"text-align: right;\">\n",
       "      <th></th>\n",
       "      <th>password</th>\n",
       "      <th>policy_range</th>\n",
       "      <th>policy_letter</th>\n",
       "      <th>counter</th>\n",
       "    </tr>\n",
       "  </thead>\n",
       "  <tbody>\n",
       "    <tr>\n",
       "      <th>0</th>\n",
       "      <td>dnjjrtclnzdnghnbnn</td>\n",
       "      <td>4-8</td>\n",
       "      <td>n</td>\n",
       "      <td>6</td>\n",
       "    </tr>\n",
       "    <tr>\n",
       "      <th>1</th>\n",
       "      <td>rrrrcqr</td>\n",
       "      <td>5-6</td>\n",
       "      <td>r</td>\n",
       "      <td>5</td>\n",
       "    </tr>\n",
       "    <tr>\n",
       "      <th>2</th>\n",
       "      <td>pqhpppwpfmr</td>\n",
       "      <td>2-4</td>\n",
       "      <td>p</td>\n",
       "      <td>5</td>\n",
       "    </tr>\n",
       "    <tr>\n",
       "      <th>3</th>\n",
       "      <td>spppppppppppvp</td>\n",
       "      <td>1-13</td>\n",
       "      <td>p</td>\n",
       "      <td>12</td>\n",
       "    </tr>\n",
       "    <tr>\n",
       "      <th>4</th>\n",
       "      <td>xfwxxxxx</td>\n",
       "      <td>5-6</td>\n",
       "      <td>x</td>\n",
       "      <td>6</td>\n",
       "    </tr>\n",
       "  </tbody>\n",
       "</table>\n",
       "</div>"
      ],
      "text/plain": [
       "             password policy_range policy_letter  counter\n",
       "0  dnjjrtclnzdnghnbnn          4-8             n        6\n",
       "1             rrrrcqr          5-6             r        5\n",
       "2         pqhpppwpfmr          2-4             p        5\n",
       "3      spppppppppppvp         1-13             p       12\n",
       "4            xfwxxxxx          5-6             x        6"
      ]
     },
     "execution_count": 17,
     "metadata": {},
     "output_type": "execute_result"
    }
   ],
   "source": [
    "df.head()"
   ]
  },
  {
   "cell_type": "code",
   "execution_count": 18,
   "metadata": {},
   "outputs": [],
   "source": [
    "df[['policy_range_start','policy_range_end']] = df.policy_range.apply(lambda x: pd.Series(str(x).split(\"-\")))"
   ]
  },
  {
   "cell_type": "code",
   "execution_count": 19,
   "metadata": {},
   "outputs": [
    {
     "data": {
      "text/html": [
       "<div>\n",
       "<style scoped>\n",
       "    .dataframe tbody tr th:only-of-type {\n",
       "        vertical-align: middle;\n",
       "    }\n",
       "\n",
       "    .dataframe tbody tr th {\n",
       "        vertical-align: top;\n",
       "    }\n",
       "\n",
       "    .dataframe thead th {\n",
       "        text-align: right;\n",
       "    }\n",
       "</style>\n",
       "<table border=\"1\" class=\"dataframe\">\n",
       "  <thead>\n",
       "    <tr style=\"text-align: right;\">\n",
       "      <th></th>\n",
       "      <th>password</th>\n",
       "      <th>policy_letter</th>\n",
       "      <th>counter</th>\n",
       "      <th>policy_range_start</th>\n",
       "      <th>policy_range_end</th>\n",
       "    </tr>\n",
       "  </thead>\n",
       "  <tbody>\n",
       "    <tr>\n",
       "      <th>0</th>\n",
       "      <td>dnjjrtclnzdnghnbnn</td>\n",
       "      <td>n</td>\n",
       "      <td>6</td>\n",
       "      <td>4</td>\n",
       "      <td>8</td>\n",
       "    </tr>\n",
       "    <tr>\n",
       "      <th>1</th>\n",
       "      <td>rrrrcqr</td>\n",
       "      <td>r</td>\n",
       "      <td>5</td>\n",
       "      <td>5</td>\n",
       "      <td>6</td>\n",
       "    </tr>\n",
       "    <tr>\n",
       "      <th>2</th>\n",
       "      <td>pqhpppwpfmr</td>\n",
       "      <td>p</td>\n",
       "      <td>5</td>\n",
       "      <td>2</td>\n",
       "      <td>4</td>\n",
       "    </tr>\n",
       "    <tr>\n",
       "      <th>3</th>\n",
       "      <td>spppppppppppvp</td>\n",
       "      <td>p</td>\n",
       "      <td>12</td>\n",
       "      <td>1</td>\n",
       "      <td>13</td>\n",
       "    </tr>\n",
       "    <tr>\n",
       "      <th>4</th>\n",
       "      <td>xfwxxxxx</td>\n",
       "      <td>x</td>\n",
       "      <td>6</td>\n",
       "      <td>5</td>\n",
       "      <td>6</td>\n",
       "    </tr>\n",
       "  </tbody>\n",
       "</table>\n",
       "</div>"
      ],
      "text/plain": [
       "             password policy_letter  counter policy_range_start  \\\n",
       "0  dnjjrtclnzdnghnbnn             n        6                  4   \n",
       "1             rrrrcqr             r        5                  5   \n",
       "2         pqhpppwpfmr             p        5                  2   \n",
       "3      spppppppppppvp             p       12                  1   \n",
       "4            xfwxxxxx             x        6                  5   \n",
       "\n",
       "  policy_range_end  \n",
       "0                8  \n",
       "1                6  \n",
       "2                4  \n",
       "3               13  \n",
       "4                6  "
      ]
     },
     "execution_count": 19,
     "metadata": {},
     "output_type": "execute_result"
    }
   ],
   "source": [
    "df = df.drop(columns=['policy_range'])\n",
    "df.head()"
   ]
  },
  {
   "cell_type": "code",
   "execution_count": 20,
   "metadata": {},
   "outputs": [
    {
     "data": {
      "text/plain": [
       "password              object\n",
       "policy_letter         object\n",
       "counter                int64\n",
       "policy_range_start    object\n",
       "policy_range_end      object\n",
       "dtype: object"
      ]
     },
     "execution_count": 20,
     "metadata": {},
     "output_type": "execute_result"
    }
   ],
   "source": [
    "df.dtypes"
   ]
  },
  {
   "cell_type": "code",
   "execution_count": 21,
   "metadata": {},
   "outputs": [],
   "source": [
    "df.policy_range_start = pd.to_numeric(df.policy_range_start, errors='coerce').fillna(0).astype(np.int64)\n",
    "df.policy_range_end = pd.to_numeric(df.policy_range_end, errors='coerce').fillna(0).astype(np.int64)"
   ]
  },
  {
   "cell_type": "code",
   "execution_count": 22,
   "metadata": {},
   "outputs": [
    {
     "data": {
      "text/plain": [
       "password              object\n",
       "policy_letter         object\n",
       "counter                int64\n",
       "policy_range_start     int64\n",
       "policy_range_end       int64\n",
       "dtype: object"
      ]
     },
     "execution_count": 22,
     "metadata": {},
     "output_type": "execute_result"
    }
   ],
   "source": [
    "df.dtypes"
   ]
  },
  {
   "cell_type": "code",
   "execution_count": 25,
   "metadata": {},
   "outputs": [
    {
     "data": {
      "text/html": [
       "<div>\n",
       "<style scoped>\n",
       "    .dataframe tbody tr th:only-of-type {\n",
       "        vertical-align: middle;\n",
       "    }\n",
       "\n",
       "    .dataframe tbody tr th {\n",
       "        vertical-align: top;\n",
       "    }\n",
       "\n",
       "    .dataframe thead th {\n",
       "        text-align: right;\n",
       "    }\n",
       "</style>\n",
       "<table border=\"1\" class=\"dataframe\">\n",
       "  <thead>\n",
       "    <tr style=\"text-align: right;\">\n",
       "      <th></th>\n",
       "      <th>password</th>\n",
       "      <th>policy_letter</th>\n",
       "      <th>counter</th>\n",
       "      <th>policy_range_start</th>\n",
       "      <th>policy_range_end</th>\n",
       "    </tr>\n",
       "  </thead>\n",
       "  <tbody>\n",
       "    <tr>\n",
       "      <th>0</th>\n",
       "      <td>dnjjrtclnzdnghnbnn</td>\n",
       "      <td>n</td>\n",
       "      <td>6</td>\n",
       "      <td>4</td>\n",
       "      <td>8</td>\n",
       "    </tr>\n",
       "    <tr>\n",
       "      <th>1</th>\n",
       "      <td>rrrrcqr</td>\n",
       "      <td>r</td>\n",
       "      <td>5</td>\n",
       "      <td>5</td>\n",
       "      <td>6</td>\n",
       "    </tr>\n",
       "    <tr>\n",
       "      <th>3</th>\n",
       "      <td>spppppppppppvp</td>\n",
       "      <td>p</td>\n",
       "      <td>12</td>\n",
       "      <td>1</td>\n",
       "      <td>13</td>\n",
       "    </tr>\n",
       "    <tr>\n",
       "      <th>4</th>\n",
       "      <td>xfwxxxxx</td>\n",
       "      <td>x</td>\n",
       "      <td>6</td>\n",
       "      <td>5</td>\n",
       "      <td>6</td>\n",
       "    </tr>\n",
       "    <tr>\n",
       "      <th>5</th>\n",
       "      <td>nnnnsnnnnnnnnnnnnnnn</td>\n",
       "      <td>n</td>\n",
       "      <td>19</td>\n",
       "      <td>19</td>\n",
       "      <td>20</td>\n",
       "    </tr>\n",
       "    <tr>\n",
       "      <th>...</th>\n",
       "      <td>...</td>\n",
       "      <td>...</td>\n",
       "      <td>...</td>\n",
       "      <td>...</td>\n",
       "      <td>...</td>\n",
       "    </tr>\n",
       "    <tr>\n",
       "      <th>991</th>\n",
       "      <td>qqrqqqqqlkq</td>\n",
       "      <td>q</td>\n",
       "      <td>8</td>\n",
       "      <td>8</td>\n",
       "      <td>11</td>\n",
       "    </tr>\n",
       "    <tr>\n",
       "      <th>993</th>\n",
       "      <td>ssssssssscsfsss</td>\n",
       "      <td>s</td>\n",
       "      <td>13</td>\n",
       "      <td>8</td>\n",
       "      <td>13</td>\n",
       "    </tr>\n",
       "    <tr>\n",
       "      <th>994</th>\n",
       "      <td>pwwtwwlwwhww</td>\n",
       "      <td>w</td>\n",
       "      <td>8</td>\n",
       "      <td>6</td>\n",
       "      <td>8</td>\n",
       "    </tr>\n",
       "    <tr>\n",
       "      <th>996</th>\n",
       "      <td>jvgxmphvr</td>\n",
       "      <td>v</td>\n",
       "      <td>2</td>\n",
       "      <td>2</td>\n",
       "      <td>4</td>\n",
       "    </tr>\n",
       "    <tr>\n",
       "      <th>997</th>\n",
       "      <td>rrzrcd</td>\n",
       "      <td>r</td>\n",
       "      <td>3</td>\n",
       "      <td>2</td>\n",
       "      <td>6</td>\n",
       "    </tr>\n",
       "  </tbody>\n",
       "</table>\n",
       "<p>622 rows × 5 columns</p>\n",
       "</div>"
      ],
      "text/plain": [
       "                 password policy_letter  counter  policy_range_start  \\\n",
       "0      dnjjrtclnzdnghnbnn             n        6                   4   \n",
       "1                 rrrrcqr             r        5                   5   \n",
       "3          spppppppppppvp             p       12                   1   \n",
       "4                xfwxxxxx             x        6                   5   \n",
       "5    nnnnsnnnnnnnnnnnnnnn             n       19                  19   \n",
       "..                    ...           ...      ...                 ...   \n",
       "991           qqrqqqqqlkq             q        8                   8   \n",
       "993       ssssssssscsfsss             s       13                   8   \n",
       "994          pwwtwwlwwhww             w        8                   6   \n",
       "996             jvgxmphvr             v        2                   2   \n",
       "997                rrzrcd             r        3                   2   \n",
       "\n",
       "     policy_range_end  \n",
       "0                   8  \n",
       "1                   6  \n",
       "3                  13  \n",
       "4                   6  \n",
       "5                  20  \n",
       "..                ...  \n",
       "991                11  \n",
       "993                13  \n",
       "994                 8  \n",
       "996                 4  \n",
       "997                 6  \n",
       "\n",
       "[622 rows x 5 columns]"
      ]
     },
     "execution_count": 25,
     "metadata": {},
     "output_type": "execute_result"
    }
   ],
   "source": [
    "df.query('counter >= policy_range_start & counter <= policy_range_end')"
   ]
  },
  {
   "cell_type": "markdown",
   "metadata": {},
   "source": [
    "622 passwords are valid!"
   ]
  },
  {
   "cell_type": "markdown",
   "metadata": {},
   "source": [
    "> ```That's the right answer! You are one gold star closer to saving your vacation.```"
   ]
  },
  {
   "cell_type": "markdown",
   "metadata": {},
   "source": [
    "#### Part Two\n",
    "\n",
    "While it appears you validated the passwords correctly, they don't seem to be what the Official Toboggan Corporate Authentication System is expecting.\n",
    "\n",
    "The shopkeeper suddenly realizes that he just accidentally explained the password policy rules from his old job at the sled rental place down the street! The Official Toboggan Corporate Policy actually works a little differently.\n",
    "\n",
    "Each policy actually describes **two positions in the password**, where ```1``` means the first character, ```2``` means the second character, and so on. (Be careful; Toboggan Corporate Policies have no concept of \"index zero\"!) **Exactly one of these positions** must contain the given letter. Other occurrences of the letter are irrelevant for the purposes of policy enforcement.\n",
    "\n",
    "Given the same example list from above:\n",
    "\n",
    "```1-3 a: abcde``` is **valid**: position ```1``` contains ```a``` and position ```3``` does not.\n",
    "```1-3 b: cdefg``` is **invalid**: neither position ```1``` nor position ```3``` contains ```b```.\n",
    "```2-9 c: ccccccccc``` is **invalid**: both position ```2``` and position ```9``` contain ```c```.\n",
    "\n",
    "**How many passwords are valid** according to the new interpretation of the policies?"
   ]
  },
  {
   "cell_type": "code",
   "execution_count": null,
   "metadata": {},
   "outputs": [],
   "source": []
  }
 ],
 "metadata": {
  "kernelspec": {
   "display_name": "Python 3",
   "language": "python",
   "name": "python3"
  },
  "language_info": {
   "codemirror_mode": {
    "name": "ipython",
    "version": 3
   },
   "file_extension": ".py",
   "mimetype": "text/x-python",
   "name": "python",
   "nbconvert_exporter": "python",
   "pygments_lexer": "ipython3",
   "version": "3.8.3"
  }
 },
 "nbformat": 4,
 "nbformat_minor": 4
}
